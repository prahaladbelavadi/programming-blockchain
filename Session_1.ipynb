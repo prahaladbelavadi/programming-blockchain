{
 "cells": [
  {
   "cell_type": "markdown",
   "metadata": {},
   "source": [
    "### Session 1"
   ]
  },
  {
   "cell_type": "code",
   "execution_count": null,
   "metadata": {
    "collapsed": false
   },
   "outputs": [],
   "source": [
    "# Addition and Substraction\n",
    "# Same as module P arithmetic (F_19)\n",
    "\n",
    "print( (11 + 6) % 19)\n",
    "print( (17 - 6) % 19)\n",
    "print( (8 + 14) % 19)\n",
    "print( (4 - 12) % 19)"
   ]
  },
  {
   "cell_type": "markdown",
   "metadata": {},
   "source": [
    "#### Exercise 1\n",
    "\n",
    "Solve these equations in $F_{31}$\n",
    "\n",
    "$2 + 15 = ?$\n",
    "\n",
    "$29 - 4 = ?$\n",
    "\n",
    "$17 + 21 = ?$\n",
    "\n",
    "$15 - 30 = ?$\n"
   ]
  },
  {
   "cell_type": "code",
   "execution_count": null,
   "metadata": {
    "collapsed": true
   },
   "outputs": [],
   "source": []
  },
  {
   "cell_type": "code",
   "execution_count": null,
   "metadata": {
    "collapsed": true
   },
   "outputs": [],
   "source": []
  },
  {
   "cell_type": "code",
   "execution_count": null,
   "metadata": {
    "collapsed": false
   },
   "outputs": [],
   "source": [
    "# Multiplication\n",
    "# Same as modulo P arithmetic (F_19)\n",
    "\n",
    "print ( (2 * 4) % 19)\n",
    "print ( (7 * 3) % 19)\n",
    "print ( (15 * 4) % 19)\n",
    "print ( (11**2) % 19)"
   ]
  },
  {
   "cell_type": "markdown",
   "metadata": {},
   "source": [
    "#### Exercise 2\n",
    "1- Solve these equations in $F_{31}$\n",
    "\n",
    "$24 \\times 19 = ?$ \n",
    "\n",
    "$17^{3} = ?$\n",
    "\n",
    "$5^{5} \\times 18 = ? $\n",
    "\n",
    "2- Write a program to calculate 1*k, 2*k, 3*k, …\n",
    "30*k for some k in $F_{31}$. Notice anything about\n",
    "these sets?\n",
    "\n",
    "3- Write a program to calculate $k^{30}$ for all k in $F_{31}$.\n",
    "Notice anything?"
   ]
  },
  {
   "cell_type": "code",
   "execution_count": null,
   "metadata": {
    "collapsed": true
   },
   "outputs": [],
   "source": []
  },
  {
   "cell_type": "code",
   "execution_count": null,
   "metadata": {
    "collapsed": true
   },
   "outputs": [],
   "source": []
  },
  {
   "cell_type": "code",
   "execution_count": null,
   "metadata": {
    "collapsed": false
   },
   "outputs": [],
   "source": [
    "# Division\n",
    "# Inverse of Multiplication\n",
    "\n",
    "print ( ((8 * pow(4, 19-2, 19) ) % 19))\n",
    "print ( ((2 * pow(3, 19-2, 19) ) % 19))\n",
    "print ( ((3 * pow(4, 19-2, 19) ) % 19))\n",
    "print ( ((7 * pow(11, 19-2, 19) ) % 19))"
   ]
  },
  {
   "cell_type": "markdown",
   "metadata": {},
   "source": [
    "#### Exercise 3\n",
    "1- Solve these equations in $F_{31}$\n",
    "\n",
    "$3 \\div 24 = ?$\n",
    "\n",
    "$17^{-3} = ?$ \n",
    "\n",
    "$4^{-4} \\times 11 = ?$\n",
    "\n",
    "\n",
    "2- Write a program to calculate k/1, k/2, k/3, …\n",
    "k/30 for some k in $F_{31}$. Notice anything about\n",
    "these sets?"
   ]
  },
  {
   "cell_type": "code",
   "execution_count": null,
   "metadata": {
    "collapsed": true
   },
   "outputs": [],
   "source": []
  },
  {
   "cell_type": "code",
   "execution_count": null,
   "metadata": {
    "collapsed": true
   },
   "outputs": [],
   "source": []
  },
  {
   "cell_type": "code",
   "execution_count": null,
   "metadata": {
    "collapsed": false
   },
   "outputs": [],
   "source": [
    "# Curve: y^2 = x^3 + 5x + 7\n",
    "# What is (2,5) + (3,7)\n",
    "\n",
    "s = (7. - 5)/(3-2)\n",
    "x3 = s**2 - 2 - 3\n",
    "y3 = s*(2 - x3) - 5\n",
    "\n",
    "print (\"({},{})\".format(x3,y3))"
   ]
  },
  {
   "cell_type": "markdown",
   "metadata": {},
   "source": [
    "#### Exercise 4\n",
    "For the curve $y^{2} = x^{3} + 5x + 7$:\n",
    "\n",
    "1- What is $(3,7) + (18,77)$?\n",
    "\n",
    "2- Verify this point is on the curve"
   ]
  },
  {
   "cell_type": "code",
   "execution_count": null,
   "metadata": {
    "collapsed": true
   },
   "outputs": [],
   "source": []
  },
  {
   "cell_type": "code",
   "execution_count": null,
   "metadata": {
    "collapsed": true
   },
   "outputs": [],
   "source": []
  },
  {
   "cell_type": "code",
   "execution_count": null,
   "metadata": {
    "collapsed": false
   },
   "outputs": [],
   "source": [
    "# Curve: y^2 = x^3 + 5x + 7\n",
    "# What is (2,5) + (2,5)\n",
    "\n",
    "s = (3*2**2+5)/(2*5.)\n",
    "x3 = s**2 - 2*2\n",
    "y3 = s*(2 - x3) - 5\n",
    "\n",
    "print (\"({},{})\".format(x3,y3))"
   ]
  },
  {
   "cell_type": "markdown",
   "metadata": {},
   "source": [
    "#### Exercise 5\n",
    "For the curve $y^{2} = x^{3} + 5x + 7$:\n",
    "\n",
    "1- What is $(3,7) + (3,7)$?\n",
    "\n",
    "2- Verify this point is on the curve\n"
   ]
  },
  {
   "cell_type": "code",
   "execution_count": null,
   "metadata": {
    "collapsed": true
   },
   "outputs": [],
   "source": []
  },
  {
   "cell_type": "code",
   "execution_count": null,
   "metadata": {
    "collapsed": true
   },
   "outputs": [],
   "source": []
  }
 ],
 "metadata": {
  "kernelspec": {
   "display_name": "Python 2",
   "language": "python",
   "name": "python2"
  },
  "language_info": {
   "codemirror_mode": {
    "name": "ipython",
    "version": 2
   },
   "file_extension": ".py",
   "mimetype": "text/x-python",
   "name": "python",
   "nbconvert_exporter": "python",
   "pygments_lexer": "ipython2",
   "version": "2.7.13"
  }
 },
 "nbformat": 4,
 "nbformat_minor": 1
}
