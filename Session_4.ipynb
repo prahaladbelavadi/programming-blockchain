{
 "cells": [
  {
   "cell_type": "markdown",
   "metadata": {},
   "source": [
    "### Session 4\n",
    "\n",
    "#### Exercise 1\n",
    "\n",
    "How much is the transaction fee of this transaction?\n",
    "\n",
    "010000000456919960ac691763688d3d3bcea9ad6ecaf875df5339e148a1fc61c6ed7a069e010000006a47304402204585bcdef85e6b1\n",
    "c6af5c2669d4830ff86e42dd205c0e089bc2a821657e951c002201024a10366077f87d6bce1f7100ad8cfa8a064b39d4e8fe4ea13a7b7\n",
    "1aa8180f012102f0da57e85eec2934a82a585ea337ce2f4998b50ae699dd79f5880e253dafafb7feffffffeb8f51f4038dc17e6313cf8\n",
    "31d4f02281c2a468bde0fafd37f1bf882729e7fd3000000006a47304402207899531a52d59a6de200179928ca900254a36b8dff8bb75f\n",
    "5f5d71b1cdc26125022008b422690b8461cb52c3cc30330b23d574351872b7c361e9aae3649071c1a7160121035d5c93d9ac96881f19b\n",
    "a1f686f15f009ded7c62efe85a872e6a19b43c15a2937feffffff567bf40595119d1bb8a3037c356efd56170b64cbcc160fb028fa1070\n",
    "4b45d775000000006a47304402204c7c7818424c7f7911da6cddc59655a70af1cb5eaf17c69dadbfc74ffa0b662f02207599e08bc8023\n",
    "693ad4e9527dc42c34210f7a7d1d1ddfc8492b654a11e7620a0012102158b46fbdff65d0172b7989aec8850aa0dae49abfb84c81ae6e5\n",
    "b251a58ace5cfeffffffd63a5e6c16e620f86f375925b21cabaf736c779f88fd04dcad51d26690f7f345010000006a47304402200633e\n",
    "a0d3314bea0d95b3cd8dadb2ef79ea8331ffe1e61f762c0f6daea0fabde022029f23b3e9c30f080446150b23852028751635dcee2be66\n",
    "9c2a1686a4b5edf304012103ffd6f4a67e94aba353a00882e563ff2722eb4cff0ad6006e86ee20dfe7520d55feffffff0251430f00000\n",
    "000001976a914ab0c0b2e98b1ab6dbf67d4750b0a56244948a87988ac005a6202000000001976a9143c82d7df364eb6c75be8c80df2b3\n",
    "eda8db57397088ac46430600\n"
   ]
  },
  {
   "cell_type": "code",
   "execution_count": null,
   "metadata": {
    "collapsed": true
   },
   "outputs": [],
   "source": []
  },
  {
   "cell_type": "code",
   "execution_count": null,
   "metadata": {
    "collapsed": true
   },
   "outputs": [],
   "source": []
  },
  {
   "cell_type": "code",
   "execution_count": null,
   "metadata": {
    "collapsed": false
   },
   "outputs": [],
   "source": [
    "# Double-sha256 this to get the hash that’s being signed (z)\n",
    "\n",
    "from hashlib import sha256\n",
    "from binascii import hexlify, unhexlify\n",
    "\n",
    "modified_tx = \"0100000001813f79011acb80925dfe69b3def355fe914bd1d96a3f5f71bf8303c6a989c7d1000000001976a914a802fc56c704ce87c42d7c92eb75e7896bdc41ae88acfeffffff02a135ef01000000001976a914bc3b654dca7e56b04dca18f2566cdaf02e8d9ada88ac99c39800000000001976a9141c4bc762dd5423e332166702cb75f40df79fea1288ac1943060001000000\"\n",
    "h = sha256(sha256(unhexlify(modified_tx)).digest()).hexdigest()\n",
    "print h\n",
    "z = int(h, 16)\n",
    "print z"
   ]
  },
  {
   "cell_type": "code",
   "execution_count": null,
   "metadata": {
    "collapsed": false
   },
   "outputs": [],
   "source": [
    "# From the scriptsig we can get the x coordinate of the public key\n",
    "# We know y is odd (pubkey starts with 03). Here we get y \n",
    "# and the public point\n",
    "\n",
    "x = 0x49fc4e631e3624a545de3f89f5d8684c7b8138bd94bdd531d2e213bf016b278a\n",
    "from pycoin.ecdsa import generator_secp256k1 as g\n",
    "from pycoin.ecdsa import public_pair_for_x\n",
    "y = public_pair_for_x(g, x, is_even=False)[1]\n",
    "pub = g.__class__(g.curve(), x, y)\n",
    "print pub"
   ]
  },
  {
   "cell_type": "markdown",
   "metadata": {},
   "source": [
    "#### Exercise 2\n",
    "\n",
    "Validate this signature:\n",
    "\n",
    "P = (sec compressed format)\n",
    "0349fc4e631e3624a545de3f89f5d8684c7b8138bd94bdd531d2e213bf016b278a\n",
    "\n",
    "z = 27e0c5994dec7824e56dec6b2fcb342eb7cdb0d0957c2fce9882f715e85d81a6\n",
    "\n",
    "r = ed81ff192e75a3fd2304004dcadb746fa5e24c5031ccfcf21320b0277457c98f\n",
    "\n",
    "s = 7a986d955c6e0cb35d446a89d3f56100f4d7f67801c31967743a9c8e10615bed"
   ]
  },
  {
   "cell_type": "code",
   "execution_count": null,
   "metadata": {
    "collapsed": true
   },
   "outputs": [],
   "source": []
  },
  {
   "cell_type": "code",
   "execution_count": null,
   "metadata": {
    "collapsed": true
   },
   "outputs": [],
   "source": []
  },
  {
   "cell_type": "markdown",
   "metadata": {},
   "source": [
    "#### Exercise 3\n",
    "\n",
    "Validate the signature for the first input in this transaction:\n",
    "\n",
    "01000000012f5ab4d2666744a44864a63162060c2ae36ab0a2375b1c2b6b\n",
    "43077ed5dcbed6000000006a473044022034177d53fcb8e8cba62432c5f6\n",
    "cc3d11c16df1db0bce20b874cfc61128b529e1022040c2681a2845f5eb0c\n",
    "46adb89585604f7bf8397b82db3517afb63f8e3d609c990121035e8b10b6\n",
    "75477614809f3dde7fd0e33fb898af6d86f51a65a54c838fddd417a5feff\n",
    "ffff02c5872e00000000001976a91441b835c78fb1406305727d8925ff31\n",
    "5d90f9bbc588acae2e1700000000001976a914c300e84d277c6c7bcf1719\n",
    "0ebc4e7744609f8b0c88ac31470600"
   ]
  },
  {
   "cell_type": "code",
   "execution_count": null,
   "metadata": {
    "collapsed": true
   },
   "outputs": [],
   "source": []
  },
  {
   "cell_type": "code",
   "execution_count": null,
   "metadata": {
    "collapsed": true
   },
   "outputs": [],
   "source": []
  },
  {
   "cell_type": "markdown",
   "metadata": {},
   "source": [
    "#### Exercise 4\n",
    "\n",
    "Determine a ScriptSig that will satisfy this:\n",
    "\n",
    "ScriptPubKey = OP_DUP OP_DUP OP_MUL\n",
    "OP_ADD OP_6 OP_EQUAL\n",
    "\n",
    "$X$ =>(op_dup, op_dup) $x,x,x$=> (op_mul)\n",
    "\n",
    "$x^{2},x$=>(op_add) $x^{2}+x$=>(op_6)6, $x^{2}+x$\n",
    "\n",
    "$x^{2}+x=6$ => $x=2,-3$\n"
   ]
  },
  {
   "cell_type": "code",
   "execution_count": null,
   "metadata": {
    "collapsed": true
   },
   "outputs": [],
   "source": []
  },
  {
   "cell_type": "code",
   "execution_count": null,
   "metadata": {
    "collapsed": true
   },
   "outputs": [],
   "source": []
  },
  {
   "cell_type": "code",
   "execution_count": null,
   "metadata": {
    "collapsed": false
   },
   "outputs": [],
   "source": [
    "# ScriptPubKey\n",
    "# We want to send this to mnrVtF8DWjMu839VW3rBfgYaAfKk8983Xf\n",
    "# Figure out the actual hash160 from the address\n",
    "\n",
    "from pycoin.encoding import a2b_hashed_base58\n",
    "from binascii import hexlify\n",
    "\n",
    "print (hexlify(a2b_hashed_base58('mnrVtF8DWjMu839VW3rBfgYaAfKk8983Xf')[1:]))\n"
   ]
  },
  {
   "cell_type": "markdown",
   "metadata": {},
   "source": [
    "#### Exercise 5\n",
    "\n",
    "Get the p2pkh ScriptPubKey of the address:\n",
    "\n",
    "mzx5YhAH9kNHtcN481u6WkjeHjYtVeKVh2"
   ]
  },
  {
   "cell_type": "code",
   "execution_count": null,
   "metadata": {
    "collapsed": true
   },
   "outputs": [],
   "source": []
  },
  {
   "cell_type": "code",
   "execution_count": null,
   "metadata": {
    "collapsed": true
   },
   "outputs": [],
   "source": []
  },
  {
   "cell_type": "code",
   "execution_count": null,
   "metadata": {
    "collapsed": false
   },
   "outputs": [],
   "source": [
    "# Signing the transaction\n",
    "# Sign this hash\n",
    "\n",
    "secret = xxxx\n",
    "z = 0x026f3b5e37b44308ecc3984275e009f35de44652a7fb22f1761ed0d91caba688\n",
    "from pycoin.ecdsa import generator_secp256k1 as g\n",
    "from random import randint\n",
    "from binascii import hexlify\n",
    "n = 0xFFFFFFFFFFFFFFFFFFFFFFFFFFFFFFFEBAAEDCE6AF48A03BBFD25E8CD0364141\n",
    "k = randint(0, 2**256)\n",
    "r = (k*g).pair()[0]\n",
    "s = (z + r*secret) * pow(k, n-2, n) % n\n",
    "if s > n/2: s = n - s\n",
    "from pycoin.tx.script.der import sigencode_der\n",
    "print hexlify(sigencode_der(r,s))"
   ]
  },
  {
   "cell_type": "code",
   "execution_count": null,
   "metadata": {
    "collapsed": true
   },
   "outputs": [],
   "source": []
  }
 ],
 "metadata": {
  "kernelspec": {
   "display_name": "Python 2",
   "language": "python",
   "name": "python2"
  },
  "language_info": {
   "codemirror_mode": {
    "name": "ipython",
    "version": 2
   },
   "file_extension": ".py",
   "mimetype": "text/x-python",
   "name": "python",
   "nbconvert_exporter": "python",
   "pygments_lexer": "ipython2",
   "version": "2.7.13"
  }
 },
 "nbformat": 4,
 "nbformat_minor": 1
}
