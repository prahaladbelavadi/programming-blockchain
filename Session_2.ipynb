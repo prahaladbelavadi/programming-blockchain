{
 "cells": [
  {
   "cell_type": "markdown",
   "metadata": {},
   "source": [
    "### Session 2"
   ]
  },
  {
   "cell_type": "code",
   "execution_count": null,
   "metadata": {
    "collapsed": false
   },
   "outputs": [],
   "source": [
    "# Verify (73,128) is on the curve y^2 = x^3 + 7 over F_137\n",
    "\n",
    "LHS = 128**2 % 137\n",
    "RHS = (73**3+7) % 137\n",
    "print(RHS == LHS)\n"
   ]
  },
  {
   "cell_type": "markdown",
   "metadata": {},
   "source": [
    "#### Exercise 1\n",
    "\n",
    "Which of these points are on the $y^{2}=x^{3}+7$ curve over $F_{223}$?\n",
    "\n",
    "a) $(192,105)$\n",
    "\n",
    "b) $(17,56)$\n",
    "\n",
    "c) $(200,119)$\n",
    "\n",
    "d) $(1,193)$\n",
    "\n",
    "e) $(42,99)$"
   ]
  },
  {
   "cell_type": "code",
   "execution_count": null,
   "metadata": {
    "collapsed": true
   },
   "outputs": [],
   "source": []
  },
  {
   "cell_type": "code",
   "execution_count": null,
   "metadata": {
    "collapsed": false
   },
   "outputs": [],
   "source": []
  },
  {
   "cell_type": "code",
   "execution_count": null,
   "metadata": {
    "collapsed": false
   },
   "outputs": [],
   "source": [
    "# Curve: y^2 = x^3 + 5x + 7 over F_137\n",
    "# What is (73,128) + (46,22)\n",
    "\n",
    "s = ((128 - 22) * pow(73 - 46, 137 - 2, 137)) % 137\n",
    "x3 = (s**2 - 73 - 46) % 137\n",
    "y3 = (s*(73 - x3) - 128) % 137\n",
    "\n",
    "print (\"({},{})\".format(x3,y3))\n",
    "\n",
    "#or\n",
    "\n",
    "def add_points(point,_point, field):\n",
    "    s = ((_point[1] - point[1]) * pow(_point[0] - point[0], field - 2, field)) % 137\n",
    "    x3 = (s**2 - point[0] - _point[0]) % field\n",
    "    y3 = (s*(point[0] - x3) - point[1]) % field            \n",
    "    return (x3, y3)  \n",
    "\n",
    "print add((46,22),(73,128), 137)\n"
   ]
  },
  {
   "cell_type": "markdown",
   "metadata": {},
   "source": [
    "#### Exercise 2\n",
    "\n",
    "For the curve $y^{2}=x^{3}+7$ over $F_{223}$, find:\n",
    "\n",
    "1- $(192,105) + (17,56) = ?$\n",
    "\n",
    "2- $(47,71) + (117,141) = ?$\n",
    "\n",
    "3- $(143,98) + (76,66) = ?$"
   ]
  },
  {
   "cell_type": "code",
   "execution_count": null,
   "metadata": {
    "collapsed": true
   },
   "outputs": [],
   "source": []
  },
  {
   "cell_type": "code",
   "execution_count": null,
   "metadata": {
    "collapsed": true
   },
   "outputs": [],
   "source": []
  },
  {
   "cell_type": "code",
   "execution_count": null,
   "metadata": {
    "collapsed": false
   },
   "outputs": [],
   "source": [
    "# Curve: y^2 = x^3 + 5x + 7 over F_137\n",
    "# What is 2*(73,128)\n",
    "\n",
    "def double_point(point, field):\n",
    "    s = (3*(point[0]**2)) * pow(2*point[1], field - 2, field) % field\n",
    "    x3 = (s**2 - 2*point[0]) % field\n",
    "    y3 = (s*(point[0] - x3) - point[1]) % field\n",
    "    return (x3, y3)\n",
    "\n",
    "print double_point((73,128),137)\n"
   ]
  },
  {
   "cell_type": "markdown",
   "metadata": {},
   "source": [
    "#### Exercise 3\n",
    "For the curve $y^{2}=x^{3}+7$ over $F_{223}$, find:\n",
    "\n",
    "$2\\times(192,105) = ?$\n",
    "\n",
    "$2\\times(143,98) = ?$\n",
    "\n",
    "$2\\times(47,71) = ?$\n",
    "\n",
    "$4\\times(47,71) = ?$\n",
    "\n",
    "$8\\times(47,71) = ?$\n",
    "\n",
    "$21\\times(47,71) = ?$"
   ]
  },
  {
   "cell_type": "code",
   "execution_count": null,
   "metadata": {
    "collapsed": false
   },
   "outputs": [],
   "source": []
  },
  {
   "cell_type": "code",
   "execution_count": null,
   "metadata": {
    "collapsed": false
   },
   "outputs": [],
   "source": []
  },
  {
   "cell_type": "code",
   "execution_count": null,
   "metadata": {
    "collapsed": false
   },
   "outputs": [],
   "source": [
    "# y^2 = x^3 + 7 over F_223, G=(47,71)\n",
    "# How many elements does this group have?\n",
    "# {G, 2G, 3G, ..., nG} where nG=inf\n",
    "\n",
    "def multiply_point(point, n, field):\n",
    "    _point = 0\n",
    "    def add_point():\n",
    "        if _point == 0:\n",
    "            return point\n",
    "        elif _point == point:\n",
    "            return double_point()\n",
    "        else:\n",
    "            s = ((_point[1] - point[1]) * pow(_point[0] - point[0], field - 2, field)) % field\n",
    "            x3 = (s**2 - point[0] - _point[0]) % field\n",
    "            y3 = (s*(point[0] - x3) - point[1]) % field            \n",
    "            return (x3, y3)  \n",
    "    def double_point():\n",
    "        s = (3*(_point[0]**2)) * pow(2*_point[1], field - 2, field) % field\n",
    "        x3 = (s**2 - 2*_point[0]) % field\n",
    "        y3 = (s*(_point[0] - x3) - _point[1]) % field\n",
    "        return (x3, y3)\n",
    "    for i in range(n):\n",
    "        _point = add_point()\n",
    "        \n",
    "    return _point\n",
    "\n",
    "print multiply_point((47,71),21,223)\n"
   ]
  },
  {
   "cell_type": "markdown",
   "metadata": {},
   "source": [
    "#### Exercise 4\n",
    "For the curve $y^{2}=x^{3}+7$ over $F_{223}$, and $G=(15,86)$:\n",
    "\n",
    "\n",
    "How many elements does this group have?\n",
    "\n",
    "$\\{G, 2G, 3G, ... nG\\}$ where $nG=∞$"
   ]
  },
  {
   "cell_type": "code",
   "execution_count": null,
   "metadata": {
    "collapsed": true
   },
   "outputs": [],
   "source": []
  },
  {
   "cell_type": "code",
   "execution_count": null,
   "metadata": {
    "collapsed": false
   },
   "outputs": [],
   "source": [
    "# Confirming G is on the curve\n",
    "# G = (79BE667EF9DCBBAC55A06295CE870B07029BFCDB2DCE28D959F2815B16F81798,\n",
    "# 483ADA7726A3C4655DA4FBFC0E1108A8FD17B448A68554199C47D08FFB10D4B8)\n",
    "\n",
    "x = 0x79BE667EF9DCBBAC55A06295CE870B07029BFCDB2DCE28D959F2815B16F81798\n",
    "y = 0x483ADA7726A3C4655DA4FBFC0E1108A8FD17B448A68554199C47D08FFB10D4B8\n",
    "p = 2**256 - 2**32 - 977\n",
    "print y**2 % p == (x**3 + 7) % p"
   ]
  },
  {
   "cell_type": "code",
   "execution_count": null,
   "metadata": {
    "collapsed": false
   },
   "outputs": [],
   "source": [
    "# Confirming the order of G is n\n",
    "\n",
    "# G = (79BE667EF9DCBBAC55A06295CE870B07029BFCDB2DCE28D959F2815B16F81798,\n",
    "# 483ADA7726A3C4655DA4FBFC0E1108A8FD17B448A68554199C47D08FFB10D4B8)\n",
    "\n",
    "n = 0xFFFFFFFFFFFFFFFFFFFFFFFFFFFFFFFEBAAEDCE6AF48A03BBFD25E8CD0364141\n",
    "x = 0x79BE667EF9DCBBAC55A06295CE870B07029BFCDB2DCE28D959F2815B16F81798\n",
    "y = 0x483ADA7726A3C4655DA4FBFC0E1108A8FD17B448A68554199C47D08FFB10D4B8\n",
    "n = 0xFFFFFFFFFFFFFFFFFFFFFFFFFFFFFFFEBAAEDCE6AF48A03BBFD25E8CD0364141\n",
    "from pycoin.ecdsa import generator_secp256k1 as g\n",
    "print (n*g).pair()"
   ]
  },
  {
   "cell_type": "code",
   "execution_count": null,
   "metadata": {
    "collapsed": false
   },
   "outputs": [],
   "source": [
    "# Getting a public key from private\n",
    "\n",
    "from pycoin.ecdsa import generator_secp256k1 as g\n",
    "secret = 999\n",
    "x, y = (secret*g).pair()\n",
    "print(hex(x), hex(y))"
   ]
  },
  {
   "cell_type": "markdown",
   "metadata": {},
   "source": [
    "#### Exercise 5\n",
    "\n",
    "1- Get the public point where\n",
    "\n",
    "$s=7$\n",
    "\n",
    "$s=1485$\n",
    "\n",
    "$s=2128$\n",
    "\n",
    "$s=2240+231$\n",
    "\n",
    "2- Confirm the resulting points lie on the\n",
    "secp256k1 curve $y^{2}=x^{3}+7$"
   ]
  },
  {
   "cell_type": "code",
   "execution_count": null,
   "metadata": {
    "collapsed": true
   },
   "outputs": [],
   "source": []
  },
  {
   "cell_type": "code",
   "execution_count": null,
   "metadata": {
    "collapsed": true
   },
   "outputs": [],
   "source": []
  },
  {
   "cell_type": "code",
   "execution_count": null,
   "metadata": {
    "collapsed": true
   },
   "outputs": [],
   "source": []
  },
  {
   "cell_type": "code",
   "execution_count": null,
   "metadata": {
    "collapsed": false
   },
   "outputs": [],
   "source": []
  },
  {
   "cell_type": "code",
   "execution_count": null,
   "metadata": {
    "collapsed": false
   },
   "outputs": [],
   "source": [
    "\n"
   ]
  },
  {
   "cell_type": "markdown",
   "metadata": {},
   "source": [
    "#### Exercise 6\n",
    "\n",
    "Find the compressed and uncompressed SEC\n",
    "format for public keys where the private key is:\n",
    "\n",
    "1- $999^{3}$\n",
    "\n",
    "2- 123\n",
    "\n",
    "3- 42424242"
   ]
  },
  {
   "cell_type": "code",
   "execution_count": null,
   "metadata": {
    "collapsed": true
   },
   "outputs": [],
   "source": []
  },
  {
   "cell_type": "code",
   "execution_count": null,
   "metadata": {
    "collapsed": true
   },
   "outputs": [],
   "source": []
  },
  {
   "cell_type": "code",
   "execution_count": null,
   "metadata": {
    "collapsed": false
   },
   "outputs": [],
   "source": [
    "# Addresses, SEC format\n",
    "\n",
    "from pycoin.encoding import b2a_base58, hash160\n",
    "from hashlib import sha256\n",
    "from binascii import unhexlify\n",
    "sec = unhexlify(\"025CBDF0646E5DB4EAA398F365F2EA7A0E3D419B7E0330E39CE92BDDEDCAC4F9BC\")\n",
    "h160 = hash160(sec)\n",
    "raw = chr(0) + h160\n",
    "raw = raw + sha256(raw).digest()[:4]\n",
    "print b2a_base58(raw)\n"
   ]
  },
  {
   "cell_type": "markdown",
   "metadata": {},
   "source": [
    "#### Exercise 7\n",
    "\n",
    "Find the mainnet and testnet address corresponding to these private keys:\n",
    "\n",
    "1- Compressed, $888^{3}$\n",
    "\n",
    "2- Uncompressed, $321$\n",
    "\n",
    "3- Uncompressed, $4242424242$"
   ]
  },
  {
   "cell_type": "code",
   "execution_count": null,
   "metadata": {
    "collapsed": true
   },
   "outputs": [],
   "source": []
  },
  {
   "cell_type": "code",
   "execution_count": null,
   "metadata": {
    "collapsed": true
   },
   "outputs": [],
   "source": []
  },
  {
   "cell_type": "markdown",
   "metadata": {},
   "source": [
    "#### Exercise 8\n",
    "\n",
    "Create a testnet address using your own secret key. Send the secret key and address to me.\n",
    "\n",
    "Record this key and address! You will need it\n",
    "tomorrow."
   ]
  },
  {
   "cell_type": "code",
   "execution_count": null,
   "metadata": {
    "collapsed": true
   },
   "outputs": [],
   "source": []
  },
  {
   "cell_type": "code",
   "execution_count": null,
   "metadata": {
    "collapsed": true
   },
   "outputs": [],
   "source": []
  },
  {
   "cell_type": "code",
   "execution_count": null,
   "metadata": {
    "collapsed": false
   },
   "outputs": [],
   "source": [
    "# Signing Example\n",
    "\n",
    "from pycoin.ecdsa import generator_secp256k1 as g\n",
    "from random import randint\n",
    "n = 0xFFFFFFFFFFFFFFFFFFFFFFFFFFFFFFFEBAAEDCE6AF48A03BBFD25E8CD0364141\n",
    "e = 4\n",
    "z = randint(0, 2**256)\n",
    "k = randint(0, 2**256)\n",
    "r = (k*g).pair()[0]\n",
    "s = (z+r*e) * pow(k, n-2, n) % n\n",
    "print (hex(z), hex(r), hex(s))"
   ]
  },
  {
   "cell_type": "code",
   "execution_count": null,
   "metadata": {
    "collapsed": false
   },
   "outputs": [],
   "source": [
    "# Verification Example\n",
    "\n",
    "from pycoin.ecdsa import generator_secp256k1 as g\n",
    "n = 0xFFFFFFFFFFFFFFFFFFFFFFFFFFFFFFFEBAAEDCE6AF48A03BBFD25E8CD0364141\n",
    "z = 0x524c14a77b666d906fbe56973becf3b3b9eac65442774473c68407e89c5659de\n",
    "r = 0xc0824a3ccdf3482f1435ef1917fad4a1d5573a15f0fa18a9b81dc76a941c4a3c\n",
    "s = 0x84ada30118411ef3f1777690d3dc182c289e04486375e91ba73bc48c51c59da7\n",
    "pub = g.__class__(g.curve(),\n",
    "0xe493dbf1c10d80f3581e4904930b1404cc6c13900ee0758474fa94abe8c4cd13,\n",
    "0x51ed993ea0d455b75642e2098ea51448d967ae33bfbdfe40cfe97bdc47739922)\n",
    "u = z * pow(s, n-2, n) % n\n",
    "v = r * pow(s, n-2, n) % n\n",
    "(u*g + v*pub).pair()[0] == r"
   ]
  },
  {
   "cell_type": "markdown",
   "metadata": {},
   "source": [
    "#### Exercise 9\n",
    "\n",
    "Are these sigs valid?\n",
    "\n",
    "P = (887387e452b8eacc4acfde10d9aaf7f6d9a0f975aabb10d006e4da568744d06c,\n",
    "61de6d95231cd89026e286df3b6ae4a894a3378e393e93a0f45b666329a0ae34)\n",
    "\n",
    "1- z, r, s =\n",
    "ec208baa0fc1c19f708a9ca96fdeff3ac3f230bb4a7ba4aede4942ad003c0f60,\n",
    "ac8d1c87e51d0d441be8b3dd5b05c8795b48875dffe00b7ffcfac23010d3a395,\n",
    "68342ceff8935ededd102dd876ffd6ba72d6a427a3edb13d26eb0781cb423c4\n",
    "\n",
    "2- z, r, s =\n",
    "7c076ff316692a3d7eb3c3bb0f8b1488cf72e1afcd929e29307032997a838a3d,\n",
    "eff69ef2b1bd93a66ed5219add4fb51e11a840f404876325a1e8ffe0529a2c,\n",
    "c7207fee197d27c618aea621406f6bf5ef6fca38681d82b2f06fddbdce6feab6"
   ]
  },
  {
   "cell_type": "code",
   "execution_count": null,
   "metadata": {
    "collapsed": true
   },
   "outputs": [],
   "source": []
  },
  {
   "cell_type": "code",
   "execution_count": null,
   "metadata": {
    "collapsed": true
   },
   "outputs": [],
   "source": []
  },
  {
   "cell_type": "code",
   "execution_count": null,
   "metadata": {
    "collapsed": false
   },
   "outputs": [],
   "source": [
    "# Encryption Example (error)\n",
    "\n",
    "from pycoin.ecdsa import generator_secp256k1 as g\n",
    "from binascii import hexlify\n",
    "from random import randint\n",
    "p = g.__class__(g.curve(),\n",
    "0x935581e52c354cd2f484fe8ed83af7a3097005b2f9c60bff71d35bd795f54b67,\n",
    "0x3296fb8e372dec2f72836d46f17abd994218feefccefd89b6a3dc2b2da9a6375)\n",
    "k = randint(0, 2**256)\n",
    "shared_secret = (k*p).pair()\n",
    "message = \"My name is Inrigo Montoya, you killed my father, prepare to die!\"\n",
    "m_hex = int(hexlify(message), 16)\n",
    "pad = shared_secret[0] * 2**256 + shared_secret[1]\n",
    "print hexlify(m_hex ^ pad)"
   ]
  },
  {
   "cell_type": "code",
   "execution_count": null,
   "metadata": {
    "collapsed": false
   },
   "outputs": [],
   "source": [
    "# Decryption Example\n",
    "\n",
    "# Your secret exponent = 8675309\n",
    "# Q = (d13e1fe6729be5add3e283fadda877064eebc4f34fec97f72f369b2a859508e4,\n",
    "# bb4dbb92e9dec51e92f7ab6976900e68143f2be4b9c9397f55820a6b2a35b322)\n",
    "# Message =\n",
    "# ba207cb26fd74cccd55018427c89bffdc7c6e977bcd72145e2323966de072698e4411b6cf330323c120a138bde2\n",
    "# 6909d97a954c64bb5c37797c10339fac581e8\n",
    "\n",
    "from pycoin.ecdsa import generator_secp256k1 as g\n",
    "from binascii import unhexlify\n",
    "q = g.__class__(g.curve(),\n",
    "0xd13e1fe6729be5add3e283fadda877064eebc4f34fec97f72f369b2a859508e4,\n",
    "0xbb4dbb92e9dec51e92f7ab6976900e68143f2be4b9c9397f55820a6b2a35b322)\n",
    "message = 0xba207cb26fd74cccd55018427c89bffdc7c6e977bcd72145e2323966de072698e4411b6cf330323c120a138bde26909d97a954c64bb5c37797c10339fac581e8\n",
    "shared_secret = (8675309*q).pair()\n",
    "pad = shared_secret[0] * 2**256 + shared_secret[1]\n",
    "unhexlify(hex(pad ^ message)[2:-1])"
   ]
  },
  {
   "cell_type": "code",
   "execution_count": null,
   "metadata": {
    "collapsed": true
   },
   "outputs": [],
   "source": []
  }
 ],
 "metadata": {
  "kernelspec": {
   "display_name": "Python 2",
   "language": "python",
   "name": "python2"
  },
  "language_info": {
   "codemirror_mode": {
    "name": "ipython",
    "version": 2
   },
   "file_extension": ".py",
   "mimetype": "text/x-python",
   "name": "python",
   "nbconvert_exporter": "python",
   "pygments_lexer": "ipython2",
   "version": "2.7.13"
  }
 },
 "nbformat": 4,
 "nbformat_minor": 1
}
