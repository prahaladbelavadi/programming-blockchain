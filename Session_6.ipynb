{
 "cells": [
  {
   "cell_type": "markdown",
   "metadata": {},
   "source": [
    "### Session 6\n",
    "\n",
    "#### Exercise 1\n",
    "\n",
    "020000208ec39428b17323fa0ddec8e887b4a7c53b8c0a0\n",
    "a220cfd0000000000000000005b0750fce0a889502d4050\n",
    "8d39576821155e9c9e3f5c3157f961db38fd8b25be1e77a\n",
    "759e93c0118a4ffd71d\n",
    "\n",
    "What is the double-sha256 hash of this block? Notice anything?"
   ]
  },
  {
   "cell_type": "code",
   "execution_count": null,
   "metadata": {
    "collapsed": true
   },
   "outputs": [],
   "source": []
  },
  {
   "cell_type": "code",
   "execution_count": null,
   "metadata": {
    "collapsed": true
   },
   "outputs": [],
   "source": []
  },
  {
   "cell_type": "markdown",
   "metadata": {},
   "source": [
    "#### Exercise 2\n",
    "\n",
    "Parse this block:\n",
    "\n",
    "000000203c437224480966081c2b14afac79e58207d99\n",
    "6c8ac9d32000000000000000000847a4c2c77c8ecf041\n",
    "6ca07c2dc038414f14135017e18525f85cacdeedb5424\n",
    "4e0d6b958df620218c626368a"
   ]
  },
  {
   "cell_type": "code",
   "execution_count": null,
   "metadata": {
    "collapsed": true
   },
   "outputs": [],
   "source": []
  },
  {
   "cell_type": "code",
   "execution_count": null,
   "metadata": {
    "collapsed": true
   },
   "outputs": [],
   "source": []
  },
  {
   "cell_type": "markdown",
   "metadata": {},
   "source": [
    "#### Exercise 3\n",
    "\n",
    "Calculate the target and difficulty for\n",
    "these bits:\n",
    "    \n",
    "0xf2881718"
   ]
  },
  {
   "cell_type": "code",
   "execution_count": null,
   "metadata": {
    "collapsed": true
   },
   "outputs": [],
   "source": []
  },
  {
   "cell_type": "code",
   "execution_count": null,
   "metadata": {
    "collapsed": true
   },
   "outputs": [],
   "source": []
  },
  {
   "cell_type": "markdown",
   "metadata": {},
   "source": [
    "#### Exercise 4\n",
    "\n",
    "Validate the proof-of-work for this block:\n",
    "    \n",
    "04000000fbedbbf0cfdaf278c094f187f2eb\n",
    "987c86a199da22bbb2040000000000000000\n",
    "7b7697b29129648fa08b4bcd13c9d5e60abb\n",
    "973a1efac9c8d573c71c807c56c3d6213557\n",
    "faa80518c3737ec1"
   ]
  },
  {
   "cell_type": "code",
   "execution_count": null,
   "metadata": {
    "collapsed": true
   },
   "outputs": [],
   "source": []
  },
  {
   "cell_type": "code",
   "execution_count": null,
   "metadata": {
    "collapsed": true
   },
   "outputs": [],
   "source": []
  },
  {
   "cell_type": "code",
   "execution_count": null,
   "metadata": {
    "collapsed": false
   },
   "outputs": [],
   "source": [
    "# Merkle Root Calculation Example\n",
    "from hashlib import sha256\n",
    "from binascii import hexlify, unhexlify\n",
    "\n",
    "def s2(x):\n",
    "    return hashlib.sha256(hashlib.sha256(x).digest()).digest()\n",
    "\n",
    "hashes = # look up the hashes on block 1180730 on testnet\n",
    "leafs = [unhexlify(x)[::-1] for x in hashes]\n",
    "level3 = [s2(leafs[i] + leafs[i+1]) for i in range(0, len(leafs), 2)]\n",
    "level2 = [s2(level3[i] + level3[i+1]) for i in range(0, len(level3), 2)]\n",
    "level2.append(level2[-1])\n",
    "level1 = [s2(level2[i] + level2[i+1]) for i in range(0, len(level2), 2)]\n",
    "level0 = [s2(level1[i] + level1[i+1]) for i in range(0, len(level1), 2)]\n",
    "print(hexlify(level0[0][::-1]))"
   ]
  },
  {
   "cell_type": "code",
   "execution_count": null,
   "metadata": {
    "collapsed": false
   },
   "outputs": [],
   "source": [
    "# Example Proof\n",
    "# We’ll construct a proof for the 11th item in the list\n",
    "\n",
    "item_num = 10\n",
    "c = leafs[item_num]\n",
    "c = s2(c + leafs[11])\n",
    "c = s2(level3[4] + c)\n",
    "c = s2(c + level2[3])\n",
    "c = s2(level1[0] + c)\n",
    "print(c == level0[0])\n",
    "proof = (10, leafs[11], level3[4], level2[3], level1[0])"
   ]
  },
  {
   "cell_type": "markdown",
   "metadata": {},
   "source": [
    "#### Exercise 5\n",
    "\n",
    "1- Validate the merkle root for this block\n",
    "on Testnet:\n",
    "0000000000000451fa80fcdb243b84c35eaae215a85a8faa880559e8239e6f20\n",
    "\n",
    "2- Construct a merkle proof for this\n",
    "transaction (same block):\n",
    "e8270fb475763bc8d855cfe45ed98060988c1bdcad2ffc8364f783c98999a208"
   ]
  },
  {
   "cell_type": "code",
   "execution_count": null,
   "metadata": {
    "collapsed": true
   },
   "outputs": [],
   "source": []
  },
  {
   "cell_type": "code",
   "execution_count": null,
   "metadata": {
    "collapsed": true
   },
   "outputs": [],
   "source": []
  },
  {
   "cell_type": "markdown",
   "metadata": {},
   "source": [
    "#### Exercise 6\n",
    "\n",
    "1- Write a program to get the merkle root given a\n",
    "list of hashes.\n",
    "\n",
    "2- Write a program that returns you the merkle\n",
    "proof (index, list of hashes) given a transaction\n",
    "hash from a list.\n",
    "\n",
    "3- Write a test for this program using random\n",
    "hashes (generated new every time!)."
   ]
  },
  {
   "cell_type": "code",
   "execution_count": null,
   "metadata": {
    "collapsed": true
   },
   "outputs": [],
   "source": []
  },
  {
   "cell_type": "code",
   "execution_count": null,
   "metadata": {
    "collapsed": true
   },
   "outputs": [],
   "source": []
  }
 ],
 "metadata": {
  "kernelspec": {
   "display_name": "Python 2",
   "language": "python",
   "name": "python2"
  },
  "language_info": {
   "codemirror_mode": {
    "name": "ipython",
    "version": 2
   },
   "file_extension": ".py",
   "mimetype": "text/x-python",
   "name": "python",
   "nbconvert_exporter": "python",
   "pygments_lexer": "ipython2",
   "version": "2.7.13"
  }
 },
 "nbformat": 4,
 "nbformat_minor": 1
}
