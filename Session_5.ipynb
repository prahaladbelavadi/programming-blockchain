{
 "cells": [
  {
   "cell_type": "markdown",
   "metadata": {},
   "source": [
    "### Session 5\n",
    "\n",
    "#### Exercise 1\n",
    "\n",
    "You have been sent 0.1 TBTC\n",
    "\n",
    "1- Send 0.05 TBTC to this address:\n",
    "mnrVtF8DWjMu839VW3rBfgYaAfKk8983Xf\n",
    "\n",
    "2- Send your transaction on:\n",
    "https://testnet.blockexplorer.com/tx/send"
   ]
  },
  {
   "cell_type": "code",
   "execution_count": null,
   "metadata": {
    "collapsed": true
   },
   "outputs": [],
   "source": []
  },
  {
   "cell_type": "code",
   "execution_count": null,
   "metadata": {
    "collapsed": true
   },
   "outputs": [],
   "source": []
  },
  {
   "cell_type": "markdown",
   "metadata": {},
   "source": [
    "#### Exercise 2\n",
    "\n",
    "0100000001868278ed6ddfb6c1ed3ad5f8181eb0c7a385aa0836f01d5e4789e6bd304d87221a00000\n",
    "0db00483045022100dc92655fe37036f47756db8102e0d7d5e28b3beb83a8fef4f5dc0559bddfb94e\n",
    "02205a36d4e4e6c7fcd16658c50783e00c341609977aed3ad00937bf4ee942a899370148304502210\n",
    "0da6bee3c93766232079a01639d07fa869598749729ae323eab8eef53577d611b02207bef15429dca\n",
    "dce2121ea07f233115c6f09034c0be68db99980b9a6c5e75402201475221022626e955ea6ea6d9885\n",
    "0c994f9107b036b1334f18ca8830bfff1295d21cfdb702103b287eaf122eea69030a0e9feed096bed\n",
    "8045c8b98bec453e1ffac7fbdbd4bb7152aeffffffff04d3b11400000000001976a914904a49878c0\n",
    "adfc3aa05de7afad2cc15f483a56a88ac7f400900000000001976a914418327e3f3dda4cf5b908932\n",
    "5a4b95abdfa0334088ac722c0c00000000001976a914ba35042cfe9fc66fd35ac2224eebdafd1028a\n",
    "d2788acdc4ace020000000017a91474d691da1574e6b3c192ecfb52cc8984ee7b6c568700000000\n",
    "\n",
    "What is the amount and address of the second output shown\n",
    "here?"
   ]
  },
  {
   "cell_type": "code",
   "execution_count": null,
   "metadata": {
    "collapsed": true
   },
   "outputs": [],
   "source": []
  },
  {
   "cell_type": "code",
   "execution_count": null,
   "metadata": {
    "collapsed": true
   },
   "outputs": [],
   "source": []
  },
  {
   "cell_type": "code",
   "execution_count": null,
   "metadata": {
    "collapsed": false
   },
   "outputs": [],
   "source": [
    "# Creating a p2sh address\n",
    "# 17a91474d691da1574e6b3c192ecfb52cc8984ee7b6c5687\n",
    "# <hash> = 74d691da1574e6b3c192ecfb52cc8984ee7b6c56\n",
    "#BIP0013 defines how to turn this into an address\n",
    "#For mainnet prepend byte 5, for testnet byte 192\n",
    "\n",
    "from pycoin.encoding import b2a_hashed_base58\n",
    "from binascii import unhexlify\n",
    "print (b2a_hashed_base58(chr(5)+unhexlify('74d691da1574e6b3c192ecfb52cc8984ee7b6c56')))\n"
   ]
  },
  {
   "cell_type": "markdown",
   "metadata": {},
   "source": [
    "#### Exercise 3\n",
    "\n",
    "Find the hash160 of the RedeemScript:\n",
    "5221022626e955ea6ea6d98850c994f9107b036b1334f18\n",
    "ca8830bfff1295d21cfdb702103b287eaf122eea69030a0\n",
    "e9feed096bed8045c8b98bec453e1ffac7fbdbd4bb7152a\n",
    "e"
   ]
  },
  {
   "cell_type": "code",
   "execution_count": null,
   "metadata": {
    "collapsed": true
   },
   "outputs": [],
   "source": []
  },
  {
   "cell_type": "code",
   "execution_count": null,
   "metadata": {
    "collapsed": true
   },
   "outputs": [],
   "source": []
  },
  {
   "cell_type": "code",
   "execution_count": null,
   "metadata": {
    "collapsed": false
   },
   "outputs": [],
   "source": [
    "# Verifying p2sh Transaction\n",
    "\n",
    "#Sig1 = 483045022100dc92655fe37036f47756db8102e0d7d5e28b3beb83a8fef4f5dc0559bddfb94e02205\n",
    "#a36d4e4e6c7fcd16658c50783e00c341609977aed3ad00937bf4ee942a8993701\n",
    "#Sig2 = 483045022100da6bee3c93766232079a01639d07fa869598749729ae323eab8eef53577d611b02207\n",
    "#bef15429dcadce2121ea07f233115c6f09034c0be68db99980b9a6c5e75402201\n",
    "\n",
    "#What did this sign and how do we verify?\n",
    "\n",
    "#We replace the scriptSig with the redeemScript and append the\n",
    "#sighash (SIGHASH_ALL)\n",
    "#We get the double-sha256 of this:\n",
    "# e71bfa115715d6fd33796948126f40a8cdd39f187e4afb03896795189fe1423c\n",
    "\n",
    "#We derive the r and s from the first signature\n",
    "#483045022100dc92655fe37036f47756db8102e0d7d5e28b3beb83a8fef4f5dc0559bddfb94e02205\n",
    "#a36d4e4e6c7fcd16658c50783e00c341609977aed3ad00937bf4ee942a8993701\n",
    "\n",
    "z = int('e71bfa115715d6fd33796948126f40a8cdd39f187e4afb03896795189fe1423c', 16)\n",
    "r = int('00dc92655fe37036f47756db8102e0d7d5e28b3beb83a8fef4f5dc0559bddfb94e', 16)\n",
    "s = int('5a36d4e4e6c7fcd16658c50783e00c341609977aed3ad00937bf4ee942a89937', 16)\n",
    "\n",
    "#We derive the pubkey from the first pubkey\n",
    "#022626e955ea6ea6d98850c994f9107b036b1334f18ca8830bfff1295d21cfdb70\n",
    "\n",
    "from pycoin.ecdsa import generator_secp256k1 as g\n",
    "from pycoin.ecdsa import public_pair_for_x, verify\n",
    "\n",
    "x = 0x2626e955ea6ea6d98850c994f9107b036b1334f18ca8830bfff1295d21cfdb70\n",
    "_, y = public_pair_for_x(g, x, is_even=True)\n",
    "pub = g.__class__(g.curve(), x, y)\n",
    "verify(g, (x,y), z, (r,s))\n"
   ]
  },
  {
   "cell_type": "markdown",
   "metadata": {},
   "source": [
    "#### Exercise 4\n",
    "Validate the second signature with the second key"
   ]
  },
  {
   "cell_type": "code",
   "execution_count": null,
   "metadata": {
    "collapsed": true
   },
   "outputs": [],
   "source": []
  },
  {
   "cell_type": "code",
   "execution_count": null,
   "metadata": {
    "collapsed": true
   },
   "outputs": [],
   "source": []
  },
  {
   "cell_type": "markdown",
   "metadata": {},
   "source": [
    "#### Exercise 5\n",
    "\n",
    "01000000010000000000000000000000000000000000000000000000000000000000000000fffffff\n",
    "f5e03d71b07254d696e656420627920416e74506f6f6c20626a31312f4542312f4144362f43205914\n",
    "293101fabe6d6d678e2c8c34afc36896e7d9402824ed38e856676ee94bfdb0c6c4bcd8b2e5666a040\n",
    "0000000000000c7270000a5e00e00ffffffff01faf20b58000000001976a914338c84849423992471\n",
    "bffb1a54a8d9b1d69dc28a88ac00000000\n",
    "\n",
    "Find the Output Address corresponding to this ScriptPubKey"
   ]
  },
  {
   "cell_type": "code",
   "execution_count": null,
   "metadata": {
    "collapsed": true
   },
   "outputs": [],
   "source": []
  },
  {
   "cell_type": "code",
   "execution_count": null,
   "metadata": {
    "collapsed": true
   },
   "outputs": [],
   "source": []
  }
 ],
 "metadata": {
  "kernelspec": {
   "display_name": "Python 2",
   "language": "python",
   "name": "python2"
  },
  "language_info": {
   "codemirror_mode": {
    "name": "ipython",
    "version": 2
   },
   "file_extension": ".py",
   "mimetype": "text/x-python",
   "name": "python",
   "nbconvert_exporter": "python",
   "pygments_lexer": "ipython2",
   "version": "2.7.13"
  }
 },
 "nbformat": 4,
 "nbformat_minor": 1
}
