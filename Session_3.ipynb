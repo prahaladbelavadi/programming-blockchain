{
 "cells": [
  {
   "cell_type": "markdown",
   "metadata": {},
   "source": [
    "### Session 3"
   ]
  },
  {
   "cell_type": "code",
   "execution_count": null,
   "metadata": {
    "collapsed": false
   },
   "outputs": [],
   "source": [
    "# Encode 2^256-2^200 in WIF mainnet/testnet compressed/uncompressed\n",
    "\n",
    "from pycoin.encoding import b2a_hashed_base58\n",
    "from binascii import unhexlify\n",
    "s = unhexlify(hex(2**256-2**200)[2:-1])\n",
    "print (b2a_hashed_base58(chr(0x80)+s))\n",
    "print (b2a_hashed_base58(chr(0x80)+s+chr(1)))\n",
    "print (b2a_hashed_base58(chr(0xef)+s))\n",
    "print (b2a_hashed_base58(chr(0xef)+s+chr(1)))"
   ]
  },
  {
   "cell_type": "markdown",
   "metadata": {},
   "source": [
    "#### Exercise 1\n",
    "Find the WIF format of the following\n",
    "\n",
    "1- $2^{256}-2^{199}$, mainnet, compressed\n",
    "\n",
    "2- $2^{256}-2^{201}$, testnet, uncompressed\n",
    "\n",
    "3- 0dba685b4511dbd3d368e5c4358a1277de9486447af7b3604a69b8d9d8b7889d, mainnet, uncompressed\n",
    "\n",
    "4- 1cca23de92fd1862fb5b76e5f4f50eb082165e5191e116c18ed1a6b24be6a53f, testnet, compressed"
   ]
  },
  {
   "cell_type": "code",
   "execution_count": null,
   "metadata": {
    "collapsed": false
   },
   "outputs": [],
   "source": [
    "# Encode 1234567890 in both Big Endian and Little Endian\n",
    "h = hex(1234567890)\n",
    "print(h)\n",
    "from binascii import hexlify, unhexlify\n",
    "print (hexlify(unhexlify(h[2:])[::-1]))\n"
   ]
  },
  {
   "cell_type": "code",
   "execution_count": null,
   "metadata": {
    "collapsed": false
   },
   "outputs": [],
   "source": [
    "# Decode Little Endian number: 0x17e8fa\n",
    "h = hex(1234567890)\n",
    "print(h)\n",
    "from binascii import hexlify, unhexlify\n",
    "print (hexlify(unhexlify(h[2:])[::-1]))"
   ]
  },
  {
   "cell_type": "markdown",
   "metadata": {},
   "source": [
    "#### Exercise 2\n",
    "\n",
    "1- Convert the following hex from Big Endian to Little Endian\n",
    "\n",
    "03ee4f7a4e68f802303bc659f8f817964b4b74fe046facc3ae1be4679d622c45\n",
    "\n",
    "813f79011acb80925dfe69b3def355fe914bd1d96a3f5f71bf8303c6a989c7d1\n",
    "\n",
    "2- Convert the following numbers from Little Endian to\n",
    "Decimal\n",
    "\n",
    "99c3980000000000\n",
    "\n",
    "a135ef0100000000"
   ]
  },
  {
   "cell_type": "code",
   "execution_count": null,
   "metadata": {
    "collapsed": true
   },
   "outputs": [],
   "source": []
  },
  {
   "cell_type": "code",
   "execution_count": null,
   "metadata": {
    "collapsed": false
   },
   "outputs": [],
   "source": [
    "# Convert Little Endian to Big\n",
    "\n",
    "from binascii import hexlify, unhexlify\n",
    "x = \"03ee4f7a4e68f802303bc659f8f817964b4b74fe046facc3ae1be4679d622c45\"\n",
    "b = unhexlify(x)\n",
    "print(hexlify(b[::-1]))"
   ]
  },
  {
   "cell_type": "markdown",
   "metadata": {},
   "source": [
    "#### Exercise 3\n",
    "\n",
    "Look up this transaction on blockchain.info:\n",
    "\n",
    "d1c789a9c60383bf715f3f6ad9d14b91fe55f3deb369fe5d9280cb1a01793f81\n",
    "\n",
    "Get the hex representation of this transaction."
   ]
  },
  {
   "cell_type": "code",
   "execution_count": null,
   "metadata": {
    "collapsed": true
   },
   "outputs": [],
   "source": []
  },
  {
   "cell_type": "code",
   "execution_count": null,
   "metadata": {
    "collapsed": true
   },
   "outputs": [],
   "source": []
  },
  {
   "cell_type": "markdown",
   "metadata": {},
   "source": [
    "#### Exercise 4\n",
    "\n",
    "010000000456919960ac691763688d3d3bcea9ad6ecaf875df5339e148a1fc61c6ed7a069e010000006a47304402204585bcdef85e6b1\n",
    "c6af5c2669d4830ff86e42dd205c0e089bc2a821657e951c002201024a10366077f87d6bce1f7100ad8cfa8a064b39d4e8fe4ea13a7b7\n",
    "1aa8180f012102f0da57e85eec2934a82a585ea337ce2f4998b50ae699dd79f5880e253dafafb7feffffffeb8f51f4038dc17e6313cf8\n",
    "31d4f02281c2a468bde0fafd37f1bf882729e7fd3000000006a47304402207899531a52d59a6de200179928ca900254a36b8dff8bb75f\n",
    "5f5d71b1cdc26125022008b422690b8461cb52c3cc30330b23d574351872b7c361e9aae3649071c1a7160121035d5c93d9ac96881f19b\n",
    "a1f686f15f009ded7c62efe85a872e6a19b43c15a2937feffffff567bf40595119d1bb8a3037c356efd56170b64cbcc160fb028fa1070\n",
    "4b45d775000000006a47304402204c7c7818424c7f7911da6cddc59655a70af1cb5eaf17c69dadbfc74ffa0b662f02207599e08bc8023\n",
    "693ad4e9527dc42c34210f7a7d1d1ddfc8492b654a11e7620a0012102158b46fbdff65d0172b7989aec8850aa0dae49abfb84c81ae6e5\n",
    "b251a58ace5cfeffffffd63a5e6c16e620f86f375925b21cabaf736c779f88fd04dcad51d26690f7f345010000006a47304402200633e\n",
    "a0d3314bea0d95b3cd8dadb2ef79ea8331ffe1e61f762c0f6daea0fabde022029f23b3e9c30f080446150b23852028751635dcee2be66\n",
    "9c2a1686a4b5edf304012103ffd6f4a67e94aba353a00882e563ff2722eb4cff0ad6006e86ee20dfe7520d55feffffff0251430f00000\n",
    "000001976a914ab0c0b2e98b1ab6dbf67d4750b0a56244948a87988ac005a6202000000001976a9143c82d7df364eb6c75be8c80df2b3\n",
    "eda8db57397088ac46430600\n",
    "\n",
    "1- What is the scriptSig from the second input in this tx?\n",
    "\n",
    "2- What is the scriptPubKey of the second input in this tx?\n",
    "\n",
    "3- What is the amount for that input?"
   ]
  },
  {
   "cell_type": "code",
   "execution_count": null,
   "metadata": {
    "collapsed": true
   },
   "outputs": [],
   "source": []
  }
 ],
 "metadata": {
  "kernelspec": {
   "display_name": "Python 2",
   "language": "python",
   "name": "python2"
  },
  "language_info": {
   "codemirror_mode": {
    "name": "ipython",
    "version": 2
   },
   "file_extension": ".py",
   "mimetype": "text/x-python",
   "name": "python",
   "nbconvert_exporter": "python",
   "pygments_lexer": "ipython2",
   "version": "2.7.13"
  }
 },
 "nbformat": 4,
 "nbformat_minor": 1
}
