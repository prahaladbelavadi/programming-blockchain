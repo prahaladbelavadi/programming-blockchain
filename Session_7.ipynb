{
 "cells": [
  {
   "cell_type": "markdown",
   "metadata": {},
   "source": [
    "### Session 7\n",
    "\n",
    "#### Version\n",
    "<span style=\"color:red\">f9beb4d9</span>76657273696f6e0000000000650000005f1a69d2721101000100000000000000bc8f5e540\n",
    "0000000010000000000000000000000000000000000ffffc61b6409208d0100000000000000000000\n",
    "00000000000000ffffcb0071c0208d128035cbc97953f80f2f5361746f7368693a302e392e332fcf0\n",
    "5050001\n",
    "\n",
    "This is the network magic. This is always the same and is an\n",
    "easy way to determine the next message if the connection is\n",
    "interrupted. Testnet has a different Network Magic. Altcoins\n",
    "have a different Network Magic."
   ]
  },
  {
   "cell_type": "markdown",
   "metadata": {},
   "source": [
    "f9beb4d9<span style=\"color:red\">76657273696f6e</span>0000000000650000005f1a69d2721101000100000000000000bc8f5e540\n",
    "0000000010000000000000000000000000000000000ffffc61b6409208d0100000000000000000000\n",
    "00000000000000ffffcb0071c0208d128035cbc97953f80f2f5361746f7368693a302e392e332fcf05050001\n",
    "\n",
    "This is the payload checksum. This field is always 4 bytes. The\n",
    "rest of the message is the actual version message\n"
   ]
  },
  {
   "cell_type": "code",
   "execution_count": null,
   "metadata": {
    "collapsed": false
   },
   "outputs": [],
   "source": [
    "# This is the command. The ascii here is literally “version” with 5\n",
    "# bytes that pad since this field is always 12 bytes.\n",
    "\n",
    "from binascii import hexlify, unhexlify\n",
    "print(unhexlify(\"76657273696f6e0000000000\"))"
   ]
  },
  {
   "cell_type": "markdown",
   "metadata": {},
   "source": [
    "f9beb4d976657273696f6e0000000000<span style=\"color:red\">65000000</span>5f1a69d2721101000100000000000000bc8f5e540\n",
    "0000000010000000000000000000000000000000000ffffc61b6409208d0100000000000000000000\n",
    "00000000000000ffffcb0071c0208d128035cbc97953f80f2f5361746f7368693a302e392e332fcf0\n",
    "5050001\n",
    "\n",
    "This is the payload length. This field is always 4 bytes. Again\n",
    "little-endian so the number of bytes in the payload is 0x65 = 101"
   ]
  },
  {
   "cell_type": "markdown",
   "metadata": {},
   "source": [
    "f9beb4d976657273696f6e000000000065000000<span style=\"color:red\">5f1a69d2</span>721101000100000000000000bc8f5e540\n",
    "0000000010000000000000000000000000000000000ffffc61b6409208d0100000000000000000000\n",
    "00000000000000ffffcb0071c0208d128035cbc97953f80f2f5361746f7368693a302e392e332fcf0\n",
    "5050001\n",
    "\n",
    "This is the payload checksum. This field is always 4 bytes. The\n",
    "rest of the message is the actual version message"
   ]
  },
  {
   "cell_type": "code",
   "execution_count": null,
   "metadata": {
    "collapsed": false
   },
   "outputs": [],
   "source": [
    "# here we double-hash the version message\n",
    "from hashlib import sha256\n",
    "from binascii import unhexlify\n",
    "\n",
    "msg ='721101000100000000000000bc8f5e5400000000010000000000000000000000000000000000ffffc61b6409208d010000000000000000000000000000000000ffffcb0071c0208d128035cbc97953f80f2f5361746f7368693a302e392e332fcf05050001'\n",
    "print(sha256(sha256(unhexlify(msg)).digest()).hexdigest())"
   ]
  },
  {
   "cell_type": "markdown",
   "metadata": {},
   "source": [
    "#### Exercise 1\n",
    "\n",
    "f9beb4d976657273696f6e0000000000650000005f1a69d2721101000100000000000000bc8f5e540\n",
    "0000000010000000000000000000000000000000000ffffc61b6409208d0100000000000000000000\n",
    "00000000000000ffffcb0071c0208d128035cbc97953f80f2f5361746f7368693a302e392e332fcf0\n",
    "5050001\n",
    "\n",
    "What is the actual time of this message?"
   ]
  },
  {
   "cell_type": "code",
   "execution_count": null,
   "metadata": {
    "collapsed": true
   },
   "outputs": [],
   "source": []
  },
  {
   "cell_type": "code",
   "execution_count": null,
   "metadata": {
    "collapsed": true
   },
   "outputs": [],
   "source": []
  },
  {
   "cell_type": "markdown",
   "metadata": {},
   "source": [
    "#### Exercise 2\n",
    "\n",
    "Parse this message:\n",
    "\n",
    "f9beb4d976657261636b00000000000\n",
    "0000000005df6e0e2"
   ]
  },
  {
   "cell_type": "code",
   "execution_count": null,
   "metadata": {
    "collapsed": true
   },
   "outputs": [],
   "source": []
  },
  {
   "cell_type": "code",
   "execution_count": null,
   "metadata": {
    "collapsed": true
   },
   "outputs": [],
   "source": []
  },
  {
   "cell_type": "markdown",
   "metadata": {},
   "source": [
    "#### Exercise 3\n",
    "Parse this message and check the checksum:\n",
    "\n",
    "F9BEB4D974780000000000000000000002010000E293CDBE01000000016DBDDB085B1D8AF75184F0B\n",
    "C01FAD58D1266E9B63B50881990E4B40D6AEE3629000000008B483045022100F3581E1972AE8AC7C7\n",
    "367A7A253BC1135223ADB9A468BB3A59233F45BC578380022059AF01CA17D00E41837A1D58E97AA31\n",
    "BAE584EDEC28D35BD96923690913BAE9A0141049C02BFC97EF236CE6D8FE5D94013C721E915982ACD\n",
    "2B12B65D9B7D59E20A842005F8FC4E02532E873D37B96F09D6D4511ADA8F14042F46614A4C70C0F14\n",
    "BEFF5FFFFFFFF02404B4C00000000001976A9141AA0CD1CBEA6E7458A7ABAD512A9D9EA1AFB225E88\n",
    "AC80FAE9C7000000001976A9140EAB5BEA436A0484CFAB12485EFDA0B78B4ECC5288AC00000000"
   ]
  },
  {
   "cell_type": "code",
   "execution_count": null,
   "metadata": {
    "collapsed": true
   },
   "outputs": [],
   "source": []
  },
  {
   "cell_type": "code",
   "execution_count": null,
   "metadata": {
    "collapsed": true
   },
   "outputs": [],
   "source": []
  },
  {
   "cell_type": "code",
   "execution_count": null,
   "metadata": {
    "collapsed": false
   },
   "outputs": [],
   "source": [
    "# Connecting to a Node Manually\n",
    "\n",
    "import socket\n",
    "from binascii import unhexlify, hexlify\n",
    "\n",
    "node_IP = # (string) Find nodes to connect to here: https://bitnodes.21.co/nodes/\n",
    "port = 8883\n",
    "s = socket.socket(socket.AF_INET, socket.SOCK_STREAM)\n",
    "msg = unhexlify('f9beb4d976657273696f6e0000000000650000005f1a69d27211\\\n",
    "01000100000000000000bc8f5e5400000000010000000000000000000000000\\\n",
    "000000000ffffc61b6409208d010000000000000000000000000000000000ff\\\n",
    "ffcb0071c0208d128035cbc97953f80f2f5361746f7368693a302e392e332fc\\\n",
    "f05050001')\n",
    "s.connect((node_IP, port))\n",
    "s.sendall(msg)\n",
    "data = s.recv(200)\n",
    "print(hexlify(data))"
   ]
  },
  {
   "cell_type": "markdown",
   "metadata": {},
   "source": [
    "#### Exercise 4\n",
    "\n",
    "Connect to a node and parse some messages\n"
   ]
  },
  {
   "cell_type": "code",
   "execution_count": null,
   "metadata": {
    "collapsed": true
   },
   "outputs": [],
   "source": [
    "import socket\n",
    "from binascii import unhexlify, hexlify\n",
    "\n",
    "\n",
    "node_IP = # (string) Find nodes to connect to here: https://bitnodes.21.co/nodes/\n",
    "port = 8883\n",
    "s = socket.socket(socket.AF_INET, socket.SOCK_STREAM)\n",
    "msg = unhexlify('f9beb4d976657273696f6e0000000000650000005f1a69d27211\\\n",
    "01000100000000000000bc8f5e5400000000010000000000000000000000000\\\n",
    "000000000ffffc61b6409208d010000000000000000000000000000000000ff\\\n",
    "ffcb0071c0208d128035cbc97953f80f2f5361746f7368693a302e392e332fc\\\n",
    "f05050001')\n",
    "s.connect((node_IP, port))\n",
    "s.sendall(msg)\n",
    "data = s.recv(200)\n",
    "print(hexlify(data))"
   ]
  }
 ],
 "metadata": {
  "kernelspec": {
   "display_name": "Python 2",
   "language": "python",
   "name": "python2"
  },
  "language_info": {
   "codemirror_mode": {
    "name": "ipython",
    "version": 2
   },
   "file_extension": ".py",
   "mimetype": "text/x-python",
   "name": "python",
   "nbconvert_exporter": "python",
   "pygments_lexer": "ipython2",
   "version": "2.7.13"
  }
 },
 "nbformat": 4,
 "nbformat_minor": 1
}
